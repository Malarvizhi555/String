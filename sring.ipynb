{
 "cells": [
  {
   "cell_type": "code",
   "execution_count": 4,
   "id": "b4a91c92-9323-40d8-b765-f0aba6300cc1",
   "metadata": {},
   "outputs": [
    {
     "data": {
      "text/plain": [
       "'k=grggggggggggg\\n   gggggggweeere\\n   fffffffffffffff'"
      ]
     },
     "execution_count": 4,
     "metadata": {},
     "output_type": "execute_result"
    }
   ],
   "source": [
    "#Multiple String\n",
    "\"\"\"k=grggggggggggg\n",
    "   gggggggweeere\n",
    "   fffffffffffffff\"\"\"\n"
   ]
  },
  {
   "cell_type": "markdown",
   "id": "6c657c67-5cca-47ce-9073-227672325680",
   "metadata": {},
   "source": [
    "m = \"Hi, Python\"\n",
    "print(a,upper())"
   ]
  },
  {
   "cell_type": "code",
   "execution_count": 8,
   "id": "7691f899-2c8e-4d12-ab2d-82dcf633893a",
   "metadata": {},
   "outputs": [
    {
     "name": "stdout",
     "output_type": "stream",
     "text": [
      "HI, PYTHON\n"
     ]
    }
   ],
   "source": [
    "m = \"Hi, Python\"\n",
    "print(m.upper())"
   ]
  },
  {
   "cell_type": "code",
   "execution_count": 9,
   "id": "bdcd2869-da67-4c7f-924c-dee59445bbb3",
   "metadata": {},
   "outputs": [
    {
     "name": "stdout",
     "output_type": "stream",
     "text": [
      "hi, python\n"
     ]
    }
   ],
   "source": [
    "m = \"Hi, Python\"\n",
    "print(m.lower())"
   ]
  },
  {
   "cell_type": "code",
   "execution_count": 10,
   "id": "d0fac0ae-0b9a-468b-ba5a-b06a45dcb0e7",
   "metadata": {},
   "outputs": [
    {
     "name": "stdout",
     "output_type": "stream",
     "text": [
      "Hi, python\n"
     ]
    }
   ],
   "source": [
    "m = \"hi, python\"\n",
    "print(m.capitalize())"
   ]
  },
  {
   "cell_type": "code",
   "execution_count": 13,
   "id": "62161f0f-5dd5-4e39-a00b-1bc3fdd22c47",
   "metadata": {},
   "outputs": [
    {
     "name": "stdout",
     "output_type": "stream",
     "text": [
      "   Hi, Python    \n",
      "Hi, Python\n"
     ]
    }
   ],
   "source": [
    "m = \"   Hi, Python    \"\n",
    "print(m)\n",
    "print(m.strip())"
   ]
  },
  {
   "cell_type": "code",
   "execution_count": null,
   "id": "4662b29a-c85c-455b-b708-2fe63cc549d2",
   "metadata": {},
   "outputs": [],
   "source": []
  }
 ],
 "metadata": {
  "kernelspec": {
   "display_name": "Python [conda env:anaconda3]",
   "language": "python",
   "name": "conda-env-anaconda3-py"
  },
  "language_info": {
   "codemirror_mode": {
    "name": "ipython",
    "version": 3
   },
   "file_extension": ".py",
   "mimetype": "text/x-python",
   "name": "python",
   "nbconvert_exporter": "python",
   "pygments_lexer": "ipython3",
   "version": "3.13.5"
  }
 },
 "nbformat": 4,
 "nbformat_minor": 5
}
