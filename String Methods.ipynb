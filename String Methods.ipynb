{
 "cells": [
  {
   "cell_type": "code",
   "execution_count": 5,
   "id": "49bd1a40-81c6-4895-a0d7-5ed8bd817860",
   "metadata": {},
   "outputs": [
    {
     "name": "stdout",
     "output_type": "stream",
     "text": [
      "                      Carrot                      \n"
     ]
    }
   ],
   "source": [
    "#String Methods\n",
    "#center  --> width with the text centered, padded with spaces (or a given character).\n",
    "\n",
    "Veg = \"Carrot\"\n",
    "v = Veg.center(50)\n",
    "print(v)"
   ]
  },
  {
   "cell_type": "code",
   "execution_count": 7,
   "id": "cf0de553-e601-4fd2-b21b-dbb1140828b4",
   "metadata": {},
   "outputs": [
    {
     "name": "stdout",
     "output_type": "stream",
     "text": [
      "*******Carrot*******\n"
     ]
    }
   ],
   "source": [
    "#center --> Fillchar --> character used to fill the empty space (optional, default = space \" \")\n",
    "Veg = \"Carrot\"\n",
    "v = Veg.center(20, '*')\n",
    "print(v)"
   ]
  },
  {
   "cell_type": "code",
   "execution_count": 8,
   "id": "7c697c61-c88b-4da7-94fa-5b0b92de3196",
   "metadata": {},
   "outputs": [
    {
     "name": "stdout",
     "output_type": "stream",
     "text": [
      "2\n"
     ]
    }
   ],
   "source": [
    "#COUNT ==>counts how many times a substring occurs in a string\n",
    "\n",
    "Veg = \"Carrot\"\n",
    "v = Veg.count(\"r\")\n",
    "print(v)"
   ]
  },
  {
   "cell_type": "code",
   "execution_count": 2,
   "id": "d3ad5e94-68ac-4e69-b13c-2afa0856ea6d",
   "metadata": {},
   "outputs": [
    {
     "name": "stdout",
     "output_type": "stream",
     "text": [
      "2\n"
     ]
    }
   ],
   "source": [
    "#count - words\n",
    "\n",
    "txt = \"I love apples, apple are my favorite fruit\"\n",
    "print(txt.count(\"apple\"))"
   ]
  },
  {
   "cell_type": "code",
   "execution_count": 22,
   "id": "0e25f52f-273b-4edd-b0ba-f951bcdc7d14",
   "metadata": {},
   "outputs": [
    {
     "name": "stdout",
     "output_type": "stream",
     "text": [
      "True\n",
      "False\n"
     ]
    }
   ],
   "source": [
    "#endswith() → checks if a string ends with the given substring and returns True or False\n",
    "#syntax ==> string.endswith(suffix, start, end)\n",
    "\n",
    "txt = \"Hello, World!\"\n",
    "print(txt.endswith(\"!\"))    \n",
    "print(txt.endswith(\"World14\")) \n"
   ]
  },
  {
   "cell_type": "code",
   "execution_count": 26,
   "id": "7b251fc7-a8b2-4f69-9e73-c72963ec6a5f",
   "metadata": {},
   "outputs": [
    {
     "name": "stdout",
     "output_type": "stream",
     "text": [
      "True\n"
     ]
    }
   ],
   "source": [
    "txt = \"Hello, World!\"\n",
    "print(txt.endswith(\"World\", 0, 12))"
   ]
  },
  {
   "cell_type": "code",
   "execution_count": 28,
   "id": "e3c6eb68-0ae6-4332-ab6f-12e08d1e4d58",
   "metadata": {},
   "outputs": [
    {
     "name": "stdout",
     "output_type": "stream",
     "text": [
      "False\n"
     ]
    }
   ],
   "source": [
    "txt = \"Hello, World!\"\n",
    "print(txt.endswith(\"World\", 0, 11))"
   ]
  },
  {
   "cell_type": "code",
   "execution_count": 1,
   "id": "6b62d261-d445-4ba5-ac41-e1378f2aa91f",
   "metadata": {},
   "outputs": [
    {
     "name": "stdout",
     "output_type": "stream",
     "text": [
      "7\n"
     ]
    }
   ],
   "source": [
    "#find() → returns the index of the first occurrence of a substring, or -1 if not found\n",
    "\n",
    "txt = \"Hello, World!\"\n",
    "print(txt.find(\"World\"))"
   ]
  },
  {
   "cell_type": "code",
   "execution_count": 4,
   "id": "a891804b-8a12-4908-b68b-b943ca0e2267",
   "metadata": {},
   "outputs": [
    {
     "name": "stdout",
     "output_type": "stream",
     "text": [
      "-1\n"
     ]
    }
   ],
   "source": [
    "#Not Found\n",
    "\n",
    "txt = \"Hello, World!\"\n",
    "print(txt.find(\"Python\"))"
   ]
  },
  {
   "cell_type": "code",
   "execution_count": 5,
   "id": "d2cf8def-c481-4025-a1b8-2d5ac5b90622",
   "metadata": {},
   "outputs": [
    {
     "name": "stdout",
     "output_type": "stream",
     "text": [
      "4\n"
     ]
    }
   ],
   "source": [
    "#With start position\n",
    "\n",
    "txt = \"bananas\"\n",
    "print(txt.find(\"na\", 3))\n"
   ]
  },
  {
   "cell_type": "code",
   "execution_count": null,
   "id": "9f233a7d-c49c-4387-8622-2fd1dce72293",
   "metadata": {},
   "outputs": [],
   "source": []
  },
  {
   "cell_type": "code",
   "execution_count": 7,
   "id": "ed477deb-dd2a-4439-9582-4dc51a6a2857",
   "metadata": {},
   "outputs": [
    {
     "name": "stdout",
     "output_type": "stream",
     "text": [
      "True\n"
     ]
    }
   ],
   "source": [
    "#isdigit() → Returns True if a string contains only digits (0–9), else False.\n",
    "#AllDigits\n",
    "\n",
    "txt = \"12345\"\n",
    "print(txt.isdigit())"
   ]
  },
  {
   "cell_type": "code",
   "execution_count": 8,
   "id": "e7d113fa-4534-4973-a4a0-25b3e902d120",
   "metadata": {},
   "outputs": [
    {
     "name": "stdout",
     "output_type": "stream",
     "text": [
      "False\n"
     ]
    }
   ],
   "source": [
    "#Contains letters\n",
    "\n",
    "txt = \"123abc\"\n",
    "print(txt.isdigit())"
   ]
  },
  {
   "cell_type": "code",
   "execution_count": 9,
   "id": "c042819b-d005-42c1-a38a-75da3e47dd5b",
   "metadata": {},
   "outputs": [
    {
     "name": "stdout",
     "output_type": "stream",
     "text": [
      "False\n"
     ]
    }
   ],
   "source": [
    "#Empty string\n",
    "\n",
    "txt = \"\"\n",
    "print(txt.isdigit())"
   ]
  },
  {
   "cell_type": "code",
   "execution_count": null,
   "id": "798e3890-6dd0-4fac-87b0-a60437424e1c",
   "metadata": {},
   "outputs": [],
   "source": []
  }
 ],
 "metadata": {
  "kernelspec": {
   "display_name": "Python [conda env:anaconda3]",
   "language": "python",
   "name": "conda-env-anaconda3-py"
  },
  "language_info": {
   "codemirror_mode": {
    "name": "ipython",
    "version": 3
   },
   "file_extension": ".py",
   "mimetype": "text/x-python",
   "name": "python",
   "nbconvert_exporter": "python",
   "pygments_lexer": "ipython3",
   "version": "3.13.5"
  }
 },
 "nbformat": 4,
 "nbformat_minor": 5
}
